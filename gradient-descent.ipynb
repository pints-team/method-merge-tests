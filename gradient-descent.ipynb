{
 "cells": [
  {
   "cell_type": "markdown",
   "metadata": {},
   "source": [
    "# Gradient descent optimiser (deterministic)\n",
    "\n",
    "This method is deterministic and takes a well defined step:\n",
    "\n",
    "$$ x[i + 1] = x[i] - \\eta \\cdot \\nabla f(x[i]) $$\n",
    "\n",
    "where $\\eta$ is a fixed parameter called the learning rate, and $\\nabla f(x[i])$ is the gradient of the objective function.\n",
    "\n",
    "So all we need to do to test it is check that it does indeed make this step."
   ]
  },
  {
   "cell_type": "markdown",
   "metadata": {},
   "source": [
    "## Tests"
   ]
  },
  {
   "cell_type": "code",
   "execution_count": 23,
   "metadata": {},
   "outputs": [],
   "source": [
    "import pints\n",
    "import numpy as np\n",
    "\n",
    "x0 = np.zeros(8)\n",
    "opt = pints.GradientDescent(x0)\n",
    "opt.set_learning_rate(1)\n",
    "\n",
    "# We start at x0\n",
    "xs = opt.ask()\n",
    "assert len(xs) == 1\n",
    "x = xs[0]\n",
    "assert list(x) == list(x0)\n",
    "\n",
    "# If we pass in gradient -g, we should move to g\n",
    "g = np.array([1, 2, 3, 4, 8, -7, 6, 5])\n",
    "opt.tell([(0, -g)])\n",
    "ys = opt.ask()\n",
    "assert list(g) == list(ys[0])\n",
    "\n",
    "# If we halve the learning rate and pass in +g, we should\n",
    "# retrace half a step\n",
    "opt.set_learning_rate(0.5)\n",
    "opt.tell([(0, g)])\n",
    "ys = opt.ask()\n",
    "assert list(g) == (list(2 * ys[0]))\n",
    "\n",
    "# And if we pass in +g again we should be back at 0\n",
    "opt.tell([(0, g)])\n",
    "ys = opt.ask()\n",
    "assert list(x) == (list(ys[0]))"
   ]
  },
  {
   "cell_type": "markdown",
   "metadata": {},
   "source": [
    "Much better!"
   ]
  }
 ],
 "metadata": {
  "kernelspec": {
   "display_name": "Python 3 (ipykernel)",
   "language": "python",
   "name": "python3"
  },
  "language_info": {
   "codemirror_mode": {
    "name": "ipython",
    "version": 3
   },
   "file_extension": ".py",
   "mimetype": "text/x-python",
   "name": "python",
   "nbconvert_exporter": "python",
   "pygments_lexer": "ipython3",
   "version": "3.11.8"
  }
 },
 "nbformat": 4,
 "nbformat_minor": 2
}
