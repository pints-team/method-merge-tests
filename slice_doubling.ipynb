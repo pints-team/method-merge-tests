{
 "cells": [
  {
   "cell_type": "markdown",
   "metadata": {},
   "source": [
    "# Slice doubling"
   ]
  },
  {
   "cell_type": "code",
   "execution_count": 2,
   "metadata": {},
   "outputs": [
    {
     "ename": "ModuleNotFoundError",
     "evalue": "No module named 'pints.cptests.slice_doubling'",
     "output_type": "error",
     "traceback": [
      "\u001b[0;31m---------------------------------------------------------------------------\u001b[0m",
      "\u001b[0;31mModuleNotFoundError\u001b[0m                       Traceback (most recent call last)",
      "\u001b[1;32m/home/huiarm/method-merge-tests/slice_doubling.ipynb Cell 2\u001b[0m line \u001b[0;36m9\n\u001b[1;32m      <a href='vscode-notebook-cell:/home/huiarm/method-merge-tests/slice_doubling.ipynb#W3sZmlsZQ%3D%3D?line=6'>7</a>\u001b[0m \u001b[39mimport\u001b[39;00m \u001b[39mpints\u001b[39;00m\u001b[39m.\u001b[39;00m\u001b[39mplot\u001b[39;00m\n\u001b[1;32m      <a href='vscode-notebook-cell:/home/huiarm/method-merge-tests/slice_doubling.ipynb#W3sZmlsZQ%3D%3D?line=7'>8</a>\u001b[0m \u001b[39mimport\u001b[39;00m \u001b[39mpints\u001b[39;00m\u001b[39m.\u001b[39;00m\u001b[39mtoy\u001b[39;00m\n\u001b[0;32m----> <a href='vscode-notebook-cell:/home/huiarm/method-merge-tests/slice_doubling.ipynb#W3sZmlsZQ%3D%3D?line=8'>9</a>\u001b[0m \u001b[39mimport\u001b[39;00m \u001b[39mpints\u001b[39;00m\u001b[39m.\u001b[39;00m\u001b[39mcptests\u001b[39;00m\u001b[39m.\u001b[39;00m\u001b[39mslice_doubling\u001b[39;00m \u001b[39mas\u001b[39;00m \u001b[39msb\u001b[39;00m\n\u001b[1;32m     <a href='vscode-notebook-cell:/home/huiarm/method-merge-tests/slice_doubling.ipynb#W3sZmlsZQ%3D%3D?line=10'>11</a>\u001b[0m \u001b[39mfrom\u001b[39;00m \u001b[39mutils\u001b[39;00m \u001b[39mimport\u001b[39;00m run_replicates, ecdf_norm_plotter\n\u001b[1;32m     <a href='vscode-notebook-cell:/home/huiarm/method-merge-tests/slice_doubling.ipynb#W3sZmlsZQ%3D%3D?line=12'>13</a>\u001b[0m parallel \u001b[39m=\u001b[39m \u001b[39mTrue\u001b[39;00m\n",
      "\u001b[0;31mModuleNotFoundError\u001b[0m: No module named 'pints.cptests.slice_doubling'"
     ]
    }
   ],
   "source": [
    "import matplotlib.pyplot as plt\n",
    "import numpy as np\n",
    "import pandas as pd\n",
    "from plotnine import *\n",
    "\n",
    "import pints\n",
    "import pints.plot\n",
    "import pints.toy\n",
    "import pints.cptests.slice_doubling_mcmc as sb\n",
    "\n",
    "from utils import run_replicates, ecdf_norm_plotter\n",
    "\n",
    "parallel = True"
   ]
  }
 ],
 "metadata": {
  "kernelspec": {
   "display_name": "venv",
   "language": "python",
   "name": "python3"
  },
  "language_info": {
   "codemirror_mode": {
    "name": "ipython",
    "version": 3
   },
   "file_extension": ".py",
   "mimetype": "text/x-python",
   "name": "python",
   "nbconvert_exporter": "python",
   "pygments_lexer": "ipython3",
   "version": "3.11.5"
  }
 },
 "nbformat": 4,
 "nbformat_minor": 2
}
